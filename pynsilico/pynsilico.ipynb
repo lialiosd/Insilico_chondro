{
 "cells": [
  {
   "cell_type": "code",
   "execution_count": 1,
   "id": "24d6bab7-685e-4a1b-94ac-3cdcc7526c75",
   "metadata": {},
   "outputs": [],
   "source": [
    "import numpy as np\n",
    "\n",
    "from def_entities import Attractor\n",
    "\n",
    "from mod_updates import *\n",
    "from mod_operations import check_state, generate_new_state, find_attractor"
   ]
  },
  {
   "cell_type": "code",
   "execution_count": 2,
   "id": "fa689420-a242-4597-9163-b3b69d32dd85",
   "metadata": {},
   "outputs": [
    {
     "name": "stdout",
     "output_type": "stream",
     "text": [
      "[1.         0.66666667 0.44444444 0.33333333 0.26666667]\n"
     ]
    }
   ],
   "source": [
    "# Total number of monte-carlo iterations\n",
    "N = 300\n",
    "# Global variables\n",
    "n = 60\n",
    "tol = 1e-6\n",
    "\n",
    "saturation = 2.0 / 3.0\n",
    "s = np.ones(5)\n",
    "for i in range(1, 5):\n",
    "  s[i] = 2 * saturation / (i+1)\n",
    "print(s)"
   ]
  },
  {
   "cell_type": "code",
   "execution_count": 3,
   "id": "c5222ff9-be27-4247-94d9-0f40bada8afd",
   "metadata": {},
   "outputs": [],
   "source": [
    "slowidx = np.array([3,5,11,13,16,20,21,23,24,25,44,46,47,48,49,51,59]) - 1\n",
    "fastidx = np.array([2,7,14,18,19,22,26,29,30,35,36,40,41,45,50,54,55,56]) - 1"
   ]
  },
  {
   "cell_type": "code",
   "execution_count": 4,
   "id": "83752674-6097-4339-9c63-5e9006951a7e",
   "metadata": {},
   "outputs": [],
   "source": [
    "all_states = []\n",
    "\n",
    "for i in range(N):\n",
    "  new_state = generate_new_state(n, slowidx, fastidx)\n",
    "  attractor_candidate = find_attractor(new_state, s, tol)\n",
    "  all_states.append(attractor_candidate)\n",
    "\n",
    "all_attractors = [Attractor(all_states[0])]\n",
    "\n",
    "for state in all_states:\n",
    "  if not check_state(state, all_attractors, atol=1e-2):\n",
    "    # Found new attractor\n",
    "    all_attractors.append(Attractor(state, freq=1))\n",
    "  else:\n",
    "    pass"
   ]
  },
  {
   "cell_type": "code",
   "execution_count": null,
   "id": "4a7d8d5a-99d3-479a-b41a-0e939d15433f",
   "metadata": {},
   "outputs": [],
   "source": [
    "# Some plots"
   ]
  },
  {
   "cell_type": "code",
   "execution_count": 26,
   "id": "470b8f5e-fc29-4b1b-b9c5-b48ca6c1b74f",
   "metadata": {},
   "outputs": [
    {
     "name": "stdout",
     "output_type": "stream",
     "text": [
      "3\n",
      "[0.0, 5.77935389824492e-12, 1.0819454966970669e-06, 5.286426790623655e-07]\n",
      "[0.0, 1.0, 0.0, 0.16532409086793104]\n",
      "[1.0, 0.0, 1.0, 0.8740739089400902]\n",
      "229\n",
      "66\n",
      "5\n"
     ]
    },
    {
     "data": {
      "image/png": "[encoded data removed]",
      "text/plain": [
       "<Figure size 432x288 with 1 Axes>"
      ]
     },
     "metadata": {
      "needs_background": "light"
     },
     "output_type": "display_data"
    }
   ],
   "source": [
    "import matplotlib.pyplot as plt\n",
    "\n",
    "print(len(all_attractors))\n",
    "\n",
    "fig = plt.figure()\n",
    "ax = fig.add_axes([0,0,1,1])\n",
    "markers = [\"Runx2\", \"Sox9\", \"MMP13\", \"SMAD7\", \"Gli2\"]\n",
    "X = np.arange(len(markers))\n",
    "#for i, attractor in enumerate(all_attractors):\n",
    "print([all_attractors[0].state[0, 8], all_attractors[0].state[0, 9], all_attractors[0].state[0, 23],all_attractors[0].state[0, 24]])\n",
    "print([all_attractors[1].state[0, 8], all_attractors[1].state[0, 9], all_attractors[1].state[0, 23],all_attractors[1].state[0, 24]])\n",
    "print([all_attractors[2].state[0, 8], all_attractors[2].state[0, 9], all_attractors[2].state[0, 23],all_attractors[2].state[0, 24]])\n",
    "\n",
    "#ax.bar(X-.5, [all_attractors[0].state[0, 8], all_attractors[0].state[0, 9], all_attractors[0].state[0, 23], all_attractors[0].state[0, 24]], width=0.2, label=\"Attractor 1\")\n",
    "ax.bar(X-0.2, [all_attractors[1].state[0, 8], all_attractors[1].state[0, 9], all_attractors[1].state[0, 23], all_attractors[1].state[0, 24], all_attractors[1].state[0,5]], width=0.4, label=\"Attractor 2\")\n",
    "ax.bar(X+0.2, [all_attractors[2].state[0, 8], all_attractors[2].state[0, 9], all_attractors[2].state[0, 23], all_attractors[2].state[0, 24], all_attractors[2].state[0,5]], width=0.4, label=\"Attractor 3\")\n",
    "plt.legend()\n",
    "plt.xticks(X, markers)\n",
    "\n",
    "plt.savefig(\"attractors.png\", transparent=True, dpi=200.0, bbox_inches=\"tight\")\n",
    "\n",
    "for at in all_attractors:\n",
    "  print(at.freq)"
   ]
  },
  {
   "cell_type": "code",
   "execution_count": null,
   "id": "ecb13716-b9bc-4ff3-ba30-bd295db041bb",
   "metadata": {},
   "outputs": [],
   "source": []
  },
  {
   "cell_type": "code",
   "execution_count": null,
   "id": "ba3742e8-12c7-4429-a5fa-cc70c5b692a3",
   "metadata": {},
   "outputs": [],
   "source": []
  }
 ],
 "metadata": {
  "kernelspec": {
   "display_name": "Python 3",
   "language": "python",
   "name": "python3"
  },
  "language_info": {
   "codemirror_mode": {
    "name": "ipython",
    "version": 3
   },
   "file_extension": ".py",
   "mimetype": "text/x-python",
   "name": "python",
   "nbconvert_exporter": "python",
   "pygments_lexer": "ipython3",
   "version": "3.8.8"
  }
 },
 "nbformat": 4,
 "nbformat_minor": 5
}
